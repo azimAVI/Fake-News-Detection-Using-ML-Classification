{
  "nbformat": 4,
  "nbformat_minor": 0,
  "metadata": {
    "colab": {
      "provenance": []
    },
    "kernelspec": {
      "name": "python3",
      "display_name": "Python 3"
    },
    "language_info": {
      "name": "python"
    }
  },
  "cells": [
    {
      "cell_type": "code",
      "execution_count": 1,
      "metadata": {
        "id": "Gin3zQV9AUqI"
      },
      "outputs": [],
      "source": [
        "import pandas as pd\n",
        "import numpy as np"
      ]
    },
    {
      "cell_type": "code",
      "source": [
        "df_fake = pd.read_csv('news.csv', encoding= 'unicode_escape')\n",
        "df_fake.head(15)"
      ],
      "metadata": {
        "colab": {
          "base_uri": "https://localhost:8080/",
          "height": 519
        },
        "id": "irYRLYKHAorh",
        "outputId": "aadfd0b1-7269-40e2-e921-3b1765886a12"
      },
      "execution_count": 31,
      "outputs": [
        {
          "output_type": "execute_result",
          "data": {
            "text/plain": [
              "       unit_id                                      article_title  \\\n",
              "0   1914947530  Syria attack symptoms consistent with nerve ag...   \n",
              "1   1914947532  Homs governor says U.S. attack caused deaths b...   \n",
              "2   1914947533    Death toll from Aleppo bomb attack at least 112   \n",
              "3   1914947534        Aleppo bomb blast kills six Syrian state TV   \n",
              "4   1914947535  29 Syria Rebels Dead in Fighting for Key Alepp...   \n",
              "5   1914947536  Suicide bombing kills at least 16 in northeast...   \n",
              "6   1914947537  22 dead in heavy U.S. raids on IS Syria strong...   \n",
              "7   1914947538     Suicide bomber kills 4 in Assad clans hometown   \n",
              "8   1914947539                 Explosion rocks down town Damascus   \n",
              "9   1914947540              Damascus explosion due to rocket bomb   \n",
              "10  1915433669     Syrian regime steps up aerial assault on Douma   \n",
              "11  1915433670  Hizballah leads regime offensive in southern S...   \n",
              "12  1915433675                  Syrian opposition remains divided   \n",
              "13  1915433682        IS video shows murder of 2 Syrian activists   \n",
              "14  1915433683  Syrias Nusra Front stages deadly suicide bombi...   \n",
              "\n",
              "                                      article_content   source        date  \\\n",
              "0   Wed 05 Apr 2017 Syria attack symptoms consiste...      nna  04-05-2017   \n",
              "1   Fri 07 Apr 2017 at 0914 Homs governor says U.S...      nna  04-07-2017   \n",
              "2   Sun 16 Apr 2017 Death toll from Aleppo bomb at...      nna   4/16/2017   \n",
              "3   Wed 19 Apr 2017 Aleppo bomb blast kills six Sy...      nna   4/19/2017   \n",
              "4   Sun 10 Jul 2016 29 Syria Rebels Dead in Fighti...      nna  07-10-2016   \n",
              "5   Tue 05 Jul 2016 Suicide bombing kills at least...      nna  07-05-2016   \n",
              "6   Sun 05 Jul 2015 22 dead in heavy U.S. raids on...      nna  07-05-2015   \n",
              "7   Sun 22 Feb 2015 Suicide bomber kills 4 in Assa...      nna   2/22/2015   \n",
              "8   Sun 01 Feb 2015 Explosion rocks down town Dama...      nna  02-01-2015   \n",
              "9   Sat 24 Aug 2013 Damascus explosion due to rock...      nna   8/24/2013   \n",
              "10  12 February 2015 Casualties mount in the Easte...  alaraby  02-12-2015   \n",
              "11  12 February 2015 Free Syrian Army and Nusra Fr...  alaraby  02-12-2015   \n",
              "12  23 February 2015 The Sawaiq al-Rahman Brigade ...  alaraby   2/23/2015   \n",
              "13  6 July 2015 So called Islamic State group has ...  alaraby  07-06-2015   \n",
              "14  7 July 2015 A suicide bomber from al-Qaedas Sy...  alaraby  07-07-2015   \n",
              "\n",
              "    location  labels  \n",
              "0      idlib       0  \n",
              "1       homs       0  \n",
              "2     aleppo       0  \n",
              "3     aleppo       0  \n",
              "4     aleppo       0  \n",
              "5    hasakeh       0  \n",
              "6      raqqa       0  \n",
              "7   lattakia       0  \n",
              "8   damascus       1  \n",
              "9   damascus       0  \n",
              "10  damascus       1  \n",
              "11  damascus       1  \n",
              "12     idlib       1  \n",
              "13     raqqa       1  \n",
              "14    aleppo       0  "
            ],
            "text/html": [
              "\n",
              "  <div id=\"df-2782ecb1-90c7-4cd2-a797-99f16dc886a4\">\n",
              "    <div class=\"colab-df-container\">\n",
              "      <div>\n",
              "<style scoped>\n",
              "    .dataframe tbody tr th:only-of-type {\n",
              "        vertical-align: middle;\n",
              "    }\n",
              "\n",
              "    .dataframe tbody tr th {\n",
              "        vertical-align: top;\n",
              "    }\n",
              "\n",
              "    .dataframe thead th {\n",
              "        text-align: right;\n",
              "    }\n",
              "</style>\n",
              "<table border=\"1\" class=\"dataframe\">\n",
              "  <thead>\n",
              "    <tr style=\"text-align: right;\">\n",
              "      <th></th>\n",
              "      <th>unit_id</th>\n",
              "      <th>article_title</th>\n",
              "      <th>article_content</th>\n",
              "      <th>source</th>\n",
              "      <th>date</th>\n",
              "      <th>location</th>\n",
              "      <th>labels</th>\n",
              "    </tr>\n",
              "  </thead>\n",
              "  <tbody>\n",
              "    <tr>\n",
              "      <th>0</th>\n",
              "      <td>1914947530</td>\n",
              "      <td>Syria attack symptoms consistent with nerve ag...</td>\n",
              "      <td>Wed 05 Apr 2017 Syria attack symptoms consiste...</td>\n",
              "      <td>nna</td>\n",
              "      <td>04-05-2017</td>\n",
              "      <td>idlib</td>\n",
              "      <td>0</td>\n",
              "    </tr>\n",
              "    <tr>\n",
              "      <th>1</th>\n",
              "      <td>1914947532</td>\n",
              "      <td>Homs governor says U.S. attack caused deaths b...</td>\n",
              "      <td>Fri 07 Apr 2017 at 0914 Homs governor says U.S...</td>\n",
              "      <td>nna</td>\n",
              "      <td>04-07-2017</td>\n",
              "      <td>homs</td>\n",
              "      <td>0</td>\n",
              "    </tr>\n",
              "    <tr>\n",
              "      <th>2</th>\n",
              "      <td>1914947533</td>\n",
              "      <td>Death toll from Aleppo bomb attack at least 112</td>\n",
              "      <td>Sun 16 Apr 2017 Death toll from Aleppo bomb at...</td>\n",
              "      <td>nna</td>\n",
              "      <td>4/16/2017</td>\n",
              "      <td>aleppo</td>\n",
              "      <td>0</td>\n",
              "    </tr>\n",
              "    <tr>\n",
              "      <th>3</th>\n",
              "      <td>1914947534</td>\n",
              "      <td>Aleppo bomb blast kills six Syrian state TV</td>\n",
              "      <td>Wed 19 Apr 2017 Aleppo bomb blast kills six Sy...</td>\n",
              "      <td>nna</td>\n",
              "      <td>4/19/2017</td>\n",
              "      <td>aleppo</td>\n",
              "      <td>0</td>\n",
              "    </tr>\n",
              "    <tr>\n",
              "      <th>4</th>\n",
              "      <td>1914947535</td>\n",
              "      <td>29 Syria Rebels Dead in Fighting for Key Alepp...</td>\n",
              "      <td>Sun 10 Jul 2016 29 Syria Rebels Dead in Fighti...</td>\n",
              "      <td>nna</td>\n",
              "      <td>07-10-2016</td>\n",
              "      <td>aleppo</td>\n",
              "      <td>0</td>\n",
              "    </tr>\n",
              "    <tr>\n",
              "      <th>5</th>\n",
              "      <td>1914947536</td>\n",
              "      <td>Suicide bombing kills at least 16 in northeast...</td>\n",
              "      <td>Tue 05 Jul 2016 Suicide bombing kills at least...</td>\n",
              "      <td>nna</td>\n",
              "      <td>07-05-2016</td>\n",
              "      <td>hasakeh</td>\n",
              "      <td>0</td>\n",
              "    </tr>\n",
              "    <tr>\n",
              "      <th>6</th>\n",
              "      <td>1914947537</td>\n",
              "      <td>22 dead in heavy U.S. raids on IS Syria strong...</td>\n",
              "      <td>Sun 05 Jul 2015 22 dead in heavy U.S. raids on...</td>\n",
              "      <td>nna</td>\n",
              "      <td>07-05-2015</td>\n",
              "      <td>raqqa</td>\n",
              "      <td>0</td>\n",
              "    </tr>\n",
              "    <tr>\n",
              "      <th>7</th>\n",
              "      <td>1914947538</td>\n",
              "      <td>Suicide bomber kills 4 in Assad clans hometown</td>\n",
              "      <td>Sun 22 Feb 2015 Suicide bomber kills 4 in Assa...</td>\n",
              "      <td>nna</td>\n",
              "      <td>2/22/2015</td>\n",
              "      <td>lattakia</td>\n",
              "      <td>0</td>\n",
              "    </tr>\n",
              "    <tr>\n",
              "      <th>8</th>\n",
              "      <td>1914947539</td>\n",
              "      <td>Explosion rocks down town Damascus</td>\n",
              "      <td>Sun 01 Feb 2015 Explosion rocks down town Dama...</td>\n",
              "      <td>nna</td>\n",
              "      <td>02-01-2015</td>\n",
              "      <td>damascus</td>\n",
              "      <td>1</td>\n",
              "    </tr>\n",
              "    <tr>\n",
              "      <th>9</th>\n",
              "      <td>1914947540</td>\n",
              "      <td>Damascus explosion due to rocket bomb</td>\n",
              "      <td>Sat 24 Aug 2013 Damascus explosion due to rock...</td>\n",
              "      <td>nna</td>\n",
              "      <td>8/24/2013</td>\n",
              "      <td>damascus</td>\n",
              "      <td>0</td>\n",
              "    </tr>\n",
              "    <tr>\n",
              "      <th>10</th>\n",
              "      <td>1915433669</td>\n",
              "      <td>Syrian regime steps up aerial assault on Douma</td>\n",
              "      <td>12 February 2015 Casualties mount in the Easte...</td>\n",
              "      <td>alaraby</td>\n",
              "      <td>02-12-2015</td>\n",
              "      <td>damascus</td>\n",
              "      <td>1</td>\n",
              "    </tr>\n",
              "    <tr>\n",
              "      <th>11</th>\n",
              "      <td>1915433670</td>\n",
              "      <td>Hizballah leads regime offensive in southern S...</td>\n",
              "      <td>12 February 2015 Free Syrian Army and Nusra Fr...</td>\n",
              "      <td>alaraby</td>\n",
              "      <td>02-12-2015</td>\n",
              "      <td>damascus</td>\n",
              "      <td>1</td>\n",
              "    </tr>\n",
              "    <tr>\n",
              "      <th>12</th>\n",
              "      <td>1915433675</td>\n",
              "      <td>Syrian opposition remains divided</td>\n",
              "      <td>23 February 2015 The Sawaiq al-Rahman Brigade ...</td>\n",
              "      <td>alaraby</td>\n",
              "      <td>2/23/2015</td>\n",
              "      <td>idlib</td>\n",
              "      <td>1</td>\n",
              "    </tr>\n",
              "    <tr>\n",
              "      <th>13</th>\n",
              "      <td>1915433682</td>\n",
              "      <td>IS video shows murder of 2 Syrian activists</td>\n",
              "      <td>6 July 2015 So called Islamic State group has ...</td>\n",
              "      <td>alaraby</td>\n",
              "      <td>07-06-2015</td>\n",
              "      <td>raqqa</td>\n",
              "      <td>1</td>\n",
              "    </tr>\n",
              "    <tr>\n",
              "      <th>14</th>\n",
              "      <td>1915433683</td>\n",
              "      <td>Syrias Nusra Front stages deadly suicide bombi...</td>\n",
              "      <td>7 July 2015 A suicide bomber from al-Qaedas Sy...</td>\n",
              "      <td>alaraby</td>\n",
              "      <td>07-07-2015</td>\n",
              "      <td>aleppo</td>\n",
              "      <td>0</td>\n",
              "    </tr>\n",
              "  </tbody>\n",
              "</table>\n",
              "</div>\n",
              "      <button class=\"colab-df-convert\" onclick=\"convertToInteractive('df-2782ecb1-90c7-4cd2-a797-99f16dc886a4')\"\n",
              "              title=\"Convert this dataframe to an interactive table.\"\n",
              "              style=\"display:none;\">\n",
              "        \n",
              "  <svg xmlns=\"http://www.w3.org/2000/svg\" height=\"24px\"viewBox=\"0 0 24 24\"\n",
              "       width=\"24px\">\n",
              "    <path d=\"M0 0h24v24H0V0z\" fill=\"none\"/>\n",
              "    <path d=\"M18.56 5.44l.94 2.06.94-2.06 2.06-.94-2.06-.94-.94-2.06-.94 2.06-2.06.94zm-11 1L8.5 8.5l.94-2.06 2.06-.94-2.06-.94L8.5 2.5l-.94 2.06-2.06.94zm10 10l.94 2.06.94-2.06 2.06-.94-2.06-.94-.94-2.06-.94 2.06-2.06.94z\"/><path d=\"M17.41 7.96l-1.37-1.37c-.4-.4-.92-.59-1.43-.59-.52 0-1.04.2-1.43.59L10.3 9.45l-7.72 7.72c-.78.78-.78 2.05 0 2.83L4 21.41c.39.39.9.59 1.41.59.51 0 1.02-.2 1.41-.59l7.78-7.78 2.81-2.81c.8-.78.8-2.07 0-2.86zM5.41 20L4 18.59l7.72-7.72 1.47 1.35L5.41 20z\"/>\n",
              "  </svg>\n",
              "      </button>\n",
              "      \n",
              "  <style>\n",
              "    .colab-df-container {\n",
              "      display:flex;\n",
              "      flex-wrap:wrap;\n",
              "      gap: 12px;\n",
              "    }\n",
              "\n",
              "    .colab-df-convert {\n",
              "      background-color: #E8F0FE;\n",
              "      border: none;\n",
              "      border-radius: 50%;\n",
              "      cursor: pointer;\n",
              "      display: none;\n",
              "      fill: #1967D2;\n",
              "      height: 32px;\n",
              "      padding: 0 0 0 0;\n",
              "      width: 32px;\n",
              "    }\n",
              "\n",
              "    .colab-df-convert:hover {\n",
              "      background-color: #E2EBFA;\n",
              "      box-shadow: 0px 1px 2px rgba(60, 64, 67, 0.3), 0px 1px 3px 1px rgba(60, 64, 67, 0.15);\n",
              "      fill: #174EA6;\n",
              "    }\n",
              "\n",
              "    [theme=dark] .colab-df-convert {\n",
              "      background-color: #3B4455;\n",
              "      fill: #D2E3FC;\n",
              "    }\n",
              "\n",
              "    [theme=dark] .colab-df-convert:hover {\n",
              "      background-color: #434B5C;\n",
              "      box-shadow: 0px 1px 3px 1px rgba(0, 0, 0, 0.15);\n",
              "      filter: drop-shadow(0px 1px 2px rgba(0, 0, 0, 0.3));\n",
              "      fill: #FFFFFF;\n",
              "    }\n",
              "  </style>\n",
              "\n",
              "      <script>\n",
              "        const buttonEl =\n",
              "          document.querySelector('#df-2782ecb1-90c7-4cd2-a797-99f16dc886a4 button.colab-df-convert');\n",
              "        buttonEl.style.display =\n",
              "          google.colab.kernel.accessAllowed ? 'block' : 'none';\n",
              "\n",
              "        async function convertToInteractive(key) {\n",
              "          const element = document.querySelector('#df-2782ecb1-90c7-4cd2-a797-99f16dc886a4');\n",
              "          const dataTable =\n",
              "            await google.colab.kernel.invokeFunction('convertToInteractive',\n",
              "                                                     [key], {});\n",
              "          if (!dataTable) return;\n",
              "\n",
              "          const docLinkHtml = 'Like what you see? Visit the ' +\n",
              "            '<a target=\"_blank\" href=https://colab.research.google.com/notebooks/data_table.ipynb>data table notebook</a>'\n",
              "            + ' to learn more about interactive tables.';\n",
              "          element.innerHTML = '';\n",
              "          dataTable['output_type'] = 'display_data';\n",
              "          await google.colab.output.renderOutput(dataTable, element);\n",
              "          const docLink = document.createElement('div');\n",
              "          docLink.innerHTML = docLinkHtml;\n",
              "          element.appendChild(docLink);\n",
              "        }\n",
              "      </script>\n",
              "    </div>\n",
              "  </div>\n",
              "  "
            ]
          },
          "metadata": {},
          "execution_count": 31
        }
      ]
    },
    {
      "cell_type": "code",
      "source": [
        "df_fake = df_fake.drop(['unit_id','source','date','location'],axis=1)\n",
        "df_fake = df_fake.dropna()"
      ],
      "metadata": {
        "id": "Erv0XwF4CQa7"
      },
      "execution_count": 32,
      "outputs": []
    },
    {
      "cell_type": "code",
      "source": [
        "df_fake.head(5)"
      ],
      "metadata": {
        "colab": {
          "base_uri": "https://localhost:8080/",
          "height": 206
        },
        "id": "0Qr3_8NTDJ_H",
        "outputId": "11b1c606-0a1d-4634-e258-008b0c763da0"
      },
      "execution_count": 29,
      "outputs": [
        {
          "output_type": "execute_result",
          "data": {
            "text/plain": [
              "                                       article_title  \\\n",
              "0  Syria attack symptoms consistent with nerve ag...   \n",
              "1  Homs governor says U.S. attack caused deaths b...   \n",
              "2    Death toll from Aleppo bomb attack at least 112   \n",
              "3        Aleppo bomb blast kills six Syrian state TV   \n",
              "4  29 Syria Rebels Dead in Fighting for Key Alepp...   \n",
              "\n",
              "                                     article_content  labels  \n",
              "0  Wed 05 Apr 2017 Syria attack symptoms consiste...       0  \n",
              "1  Fri 07 Apr 2017 at 0914 Homs governor says U.S...       0  \n",
              "2  Sun 16 Apr 2017 Death toll from Aleppo bomb at...       0  \n",
              "3  Wed 19 Apr 2017 Aleppo bomb blast kills six Sy...       0  \n",
              "4  Sun 10 Jul 2016 29 Syria Rebels Dead in Fighti...       0  "
            ],
            "text/html": [
              "\n",
              "  <div id=\"df-47b7694b-a5c1-464c-b82a-5f305c123140\">\n",
              "    <div class=\"colab-df-container\">\n",
              "      <div>\n",
              "<style scoped>\n",
              "    .dataframe tbody tr th:only-of-type {\n",
              "        vertical-align: middle;\n",
              "    }\n",
              "\n",
              "    .dataframe tbody tr th {\n",
              "        vertical-align: top;\n",
              "    }\n",
              "\n",
              "    .dataframe thead th {\n",
              "        text-align: right;\n",
              "    }\n",
              "</style>\n",
              "<table border=\"1\" class=\"dataframe\">\n",
              "  <thead>\n",
              "    <tr style=\"text-align: right;\">\n",
              "      <th></th>\n",
              "      <th>article_title</th>\n",
              "      <th>article_content</th>\n",
              "      <th>labels</th>\n",
              "    </tr>\n",
              "  </thead>\n",
              "  <tbody>\n",
              "    <tr>\n",
              "      <th>0</th>\n",
              "      <td>Syria attack symptoms consistent with nerve ag...</td>\n",
              "      <td>Wed 05 Apr 2017 Syria attack symptoms consiste...</td>\n",
              "      <td>0</td>\n",
              "    </tr>\n",
              "    <tr>\n",
              "      <th>1</th>\n",
              "      <td>Homs governor says U.S. attack caused deaths b...</td>\n",
              "      <td>Fri 07 Apr 2017 at 0914 Homs governor says U.S...</td>\n",
              "      <td>0</td>\n",
              "    </tr>\n",
              "    <tr>\n",
              "      <th>2</th>\n",
              "      <td>Death toll from Aleppo bomb attack at least 112</td>\n",
              "      <td>Sun 16 Apr 2017 Death toll from Aleppo bomb at...</td>\n",
              "      <td>0</td>\n",
              "    </tr>\n",
              "    <tr>\n",
              "      <th>3</th>\n",
              "      <td>Aleppo bomb blast kills six Syrian state TV</td>\n",
              "      <td>Wed 19 Apr 2017 Aleppo bomb blast kills six Sy...</td>\n",
              "      <td>0</td>\n",
              "    </tr>\n",
              "    <tr>\n",
              "      <th>4</th>\n",
              "      <td>29 Syria Rebels Dead in Fighting for Key Alepp...</td>\n",
              "      <td>Sun 10 Jul 2016 29 Syria Rebels Dead in Fighti...</td>\n",
              "      <td>0</td>\n",
              "    </tr>\n",
              "  </tbody>\n",
              "</table>\n",
              "</div>\n",
              "      <button class=\"colab-df-convert\" onclick=\"convertToInteractive('df-47b7694b-a5c1-464c-b82a-5f305c123140')\"\n",
              "              title=\"Convert this dataframe to an interactive table.\"\n",
              "              style=\"display:none;\">\n",
              "        \n",
              "  <svg xmlns=\"http://www.w3.org/2000/svg\" height=\"24px\"viewBox=\"0 0 24 24\"\n",
              "       width=\"24px\">\n",
              "    <path d=\"M0 0h24v24H0V0z\" fill=\"none\"/>\n",
              "    <path d=\"M18.56 5.44l.94 2.06.94-2.06 2.06-.94-2.06-.94-.94-2.06-.94 2.06-2.06.94zm-11 1L8.5 8.5l.94-2.06 2.06-.94-2.06-.94L8.5 2.5l-.94 2.06-2.06.94zm10 10l.94 2.06.94-2.06 2.06-.94-2.06-.94-.94-2.06-.94 2.06-2.06.94z\"/><path d=\"M17.41 7.96l-1.37-1.37c-.4-.4-.92-.59-1.43-.59-.52 0-1.04.2-1.43.59L10.3 9.45l-7.72 7.72c-.78.78-.78 2.05 0 2.83L4 21.41c.39.39.9.59 1.41.59.51 0 1.02-.2 1.41-.59l7.78-7.78 2.81-2.81c.8-.78.8-2.07 0-2.86zM5.41 20L4 18.59l7.72-7.72 1.47 1.35L5.41 20z\"/>\n",
              "  </svg>\n",
              "      </button>\n",
              "      \n",
              "  <style>\n",
              "    .colab-df-container {\n",
              "      display:flex;\n",
              "      flex-wrap:wrap;\n",
              "      gap: 12px;\n",
              "    }\n",
              "\n",
              "    .colab-df-convert {\n",
              "      background-color: #E8F0FE;\n",
              "      border: none;\n",
              "      border-radius: 50%;\n",
              "      cursor: pointer;\n",
              "      display: none;\n",
              "      fill: #1967D2;\n",
              "      height: 32px;\n",
              "      padding: 0 0 0 0;\n",
              "      width: 32px;\n",
              "    }\n",
              "\n",
              "    .colab-df-convert:hover {\n",
              "      background-color: #E2EBFA;\n",
              "      box-shadow: 0px 1px 2px rgba(60, 64, 67, 0.3), 0px 1px 3px 1px rgba(60, 64, 67, 0.15);\n",
              "      fill: #174EA6;\n",
              "    }\n",
              "\n",
              "    [theme=dark] .colab-df-convert {\n",
              "      background-color: #3B4455;\n",
              "      fill: #D2E3FC;\n",
              "    }\n",
              "\n",
              "    [theme=dark] .colab-df-convert:hover {\n",
              "      background-color: #434B5C;\n",
              "      box-shadow: 0px 1px 3px 1px rgba(0, 0, 0, 0.15);\n",
              "      filter: drop-shadow(0px 1px 2px rgba(0, 0, 0, 0.3));\n",
              "      fill: #FFFFFF;\n",
              "    }\n",
              "  </style>\n",
              "\n",
              "      <script>\n",
              "        const buttonEl =\n",
              "          document.querySelector('#df-47b7694b-a5c1-464c-b82a-5f305c123140 button.colab-df-convert');\n",
              "        buttonEl.style.display =\n",
              "          google.colab.kernel.accessAllowed ? 'block' : 'none';\n",
              "\n",
              "        async function convertToInteractive(key) {\n",
              "          const element = document.querySelector('#df-47b7694b-a5c1-464c-b82a-5f305c123140');\n",
              "          const dataTable =\n",
              "            await google.colab.kernel.invokeFunction('convertToInteractive',\n",
              "                                                     [key], {});\n",
              "          if (!dataTable) return;\n",
              "\n",
              "          const docLinkHtml = 'Like what you see? Visit the ' +\n",
              "            '<a target=\"_blank\" href=https://colab.research.google.com/notebooks/data_table.ipynb>data table notebook</a>'\n",
              "            + ' to learn more about interactive tables.';\n",
              "          element.innerHTML = '';\n",
              "          dataTable['output_type'] = 'display_data';\n",
              "          await google.colab.output.renderOutput(dataTable, element);\n",
              "          const docLink = document.createElement('div');\n",
              "          docLink.innerHTML = docLinkHtml;\n",
              "          element.appendChild(docLink);\n",
              "        }\n",
              "      </script>\n",
              "    </div>\n",
              "  </div>\n",
              "  "
            ]
          },
          "metadata": {},
          "execution_count": 29
        }
      ]
    },
    {
      "cell_type": "code",
      "source": [
        "df_fake = df_fake[0:500]"
      ],
      "metadata": {
        "id": "53wqizlEDN1U"
      },
      "execution_count": 6,
      "outputs": []
    },
    {
      "cell_type": "code",
      "source": [
        "X =df_fake.iloc[:,:-1].values # independent features -> article_title & article_content\n",
        "y =df_fake.iloc[:,-1].values  # dependent feature -> label"
      ],
      "metadata": {
        "id": "vz_FtLFuDVxL"
      },
      "execution_count": 7,
      "outputs": []
    },
    {
      "cell_type": "code",
      "source": [
        "X[0]"
      ],
      "metadata": {
        "id": "tRm7VNpdKPhc"
      },
      "execution_count": null,
      "outputs": []
    },
    {
      "cell_type": "code",
      "source": [
        "y[0]"
      ],
      "metadata": {
        "colab": {
          "base_uri": "https://localhost:8080/"
        },
        "id": "_jZulsr1KPdH",
        "outputId": "bf5ba7eb-0464-4409-f652-03775b93b0e8"
      },
      "execution_count": 9,
      "outputs": [
        {
          "output_type": "execute_result",
          "data": {
            "text/plain": [
              "0"
            ]
          },
          "metadata": {},
          "execution_count": 9
        }
      ]
    },
    {
      "cell_type": "code",
      "source": [
        "from sklearn.feature_extraction.text import CountVectorizer #CountVectorizer is a useful tool for text analysis and is commonly used to convert a collection of text documents into a matrix of token counts.\n",
        "cv = CountVectorizer(max_features = 1000)\n",
        "mat_body = cv.fit_transform(X[:,1]).todense() #This will transform the text data in that column into a dense matrix representation using the fit-transform process 'mat_body' <- represents the transformed matrix of token counts."
      ],
      "metadata": {
        "id": "XZ52t7Z5KPYL"
      },
      "execution_count": 10,
      "outputs": []
    },
    {
      "cell_type": "markdown",
      "source": [
        "By setting `max_features` to 1000, the `CountVectorizer` will only consider the top 1000 most frequent words or terms in the text data. This helps in limiting the dimensionality of the resulting matrix and can be beneficial in scenarios where you have a large corpus of text and want to focus on the most informative features.\n"
      ],
      "metadata": {
        "id": "HaW2eryVJZgG"
      }
    },
    {
      "cell_type": "code",
      "source": [
        "mat_body"
      ],
      "metadata": {
        "colab": {
          "base_uri": "https://localhost:8080/"
        },
        "id": "6Hvrp2Y9KO19",
        "outputId": "66bc3d7a-0428-4667-fe4a-bd6afebb0893"
      },
      "execution_count": 11,
      "outputs": [
        {
          "output_type": "execute_result",
          "data": {
            "text/plain": [
              "matrix([[0, 0, 0, ..., 0, 0, 0],\n",
              "        [0, 0, 0, ..., 0, 0, 0],\n",
              "        [0, 1, 0, ..., 0, 0, 0],\n",
              "        ...,\n",
              "        [1, 0, 0, ..., 0, 0, 0],\n",
              "        [0, 0, 0, ..., 0, 0, 0],\n",
              "        [0, 0, 0, ..., 0, 0, 0]])"
            ]
          },
          "metadata": {},
          "execution_count": 11
        }
      ]
    },
    {
      "cell_type": "code",
      "source": [
        "cv_head = CountVectorizer(max_features = 1000)\n",
        "mat_head = cv_head.fit_transform(X[:,0]).todense()"
      ],
      "metadata": {
        "id": "yKnNLsFEKOwv"
      },
      "execution_count": 12,
      "outputs": []
    },
    {
      "cell_type": "markdown",
      "source": [
        "The result of the `fit_transform` operation is stored in the variable `mat_head`. This variable represents the transformed matrix of token counts, where each row corresponds to a document (or text sample) and each column represents a specific term or word from the vocabulary.\n",
        "\n",
        "The `todense()` method is then used to convert the sparse matrix `mat_head` into a dense matrix representation. The dense matrix stores all the elements explicitly, as opposed to a sparse matrix where only non-zero elements are stored explicitly, resulting in a potentially larger memory footprint.\n",
        "\n",
        "Overall, this code snippet performs the process of tokenizing and counting the occurrences of words in the text data, creating a dense matrix representation for further analysis or modeling tasks.\n"
      ],
      "metadata": {
        "id": "VwgLVxs1JyER"
      }
    },
    {
      "cell_type": "code",
      "source": [
        "mat_head"
      ],
      "metadata": {
        "colab": {
          "base_uri": "https://localhost:8080/"
        },
        "id": "xfi-QehLKOtT",
        "outputId": "d4d8bf6f-8059-4f4b-c8d6-6e68aca20bc5"
      },
      "execution_count": 13,
      "outputs": [
        {
          "output_type": "execute_result",
          "data": {
            "text/plain": [
              "matrix([[0, 0, 0, ..., 0, 0, 0],\n",
              "        [0, 0, 0, ..., 0, 0, 0],\n",
              "        [0, 0, 0, ..., 0, 0, 0],\n",
              "        ...,\n",
              "        [0, 0, 0, ..., 0, 0, 0],\n",
              "        [0, 0, 0, ..., 0, 0, 0],\n",
              "        [0, 0, 0, ..., 0, 0, 0]])"
            ]
          },
          "metadata": {},
          "execution_count": 13
        }
      ]
    },
    {
      "cell_type": "code",
      "source": [
        "X_mat = np.hstack((mat_head, mat_body))"
      ],
      "metadata": {
        "id": "aDS6MrRwKOqI"
      },
      "execution_count": 14,
      "outputs": []
    },
    {
      "cell_type": "markdown",
      "source": [
        "The `np.hstack()` function is used to horizontally stack or concatenate two matrices, `mat_head` and `mat_body`, into a single matrix. This operation combines the columns of the two matrices side by side. Assuming both `mat_head` and `mat_body` are NumPy arrays or matrix-like objects, the resulting matrix `X_mat` will have the same number of rows as the original matrices. The number of columns in `X_mat` will be the sum of the number of columns in `mat_head` and `mat_body`.\n",
        "\n",
        "The purpose of stacking or concatenating the matrices horizontally is to combine the features or representations derived from different sources (in this case, `mat_head` and `mat_body`). This can be useful in machine learning or data analysis tasks where multiple sets of features need to be considered together for modeling or further analysis.\n"
      ],
      "metadata": {
        "id": "vUS_gM23J4Lx"
      }
    },
    {
      "cell_type": "code",
      "source": [
        "from sklearn.model_selection import train_test_split\n",
        "X_train, X_test, y_train, y_test = train_test_split(X_mat,y,test_size=0.2, random_state=0)"
      ],
      "metadata": {
        "id": "6W9WqHlIKOb8"
      },
      "execution_count": 15,
      "outputs": []
    },
    {
      "cell_type": "markdown",
      "source": [
        "The `train_test_split` function is commonly used to split a dataset into training and testing sets for machine learning tasks. It randomly divides the data into two parts based on the specified `test_size` parameter, which determines the proportion of the data to be allocated for testing.\n",
        "\n",
        "The inputs to the `train_test_split` function are `X_mat` and `y`, representing the feature matrix and target variable, respectively.\n",
        "\n",
        "The outputs of the function are assigned to four variables: `X_train`, `X_test`, `y_train`, and `y_test`. The `X_train` and `y_train` variables will contain the training data, while `X_test` and `y_test` will hold the testing data.\n",
        "\n",
        "By specifying `test_size=0.2`, 20% of the data will be allocated for testing, while the remaining 80% will be used for training. The `random_state` parameter is set to 0, which ensures that the random shuffling and splitting of the data will be reproducible.\n"
      ],
      "metadata": {
        "id": "A-pqxSDfJ9N7"
      }
    },
    {
      "cell_type": "code",
      "source": [
        "from sklearn.tree import DecisionTreeClassifier"
      ],
      "metadata": {
        "id": "n-b4zXBrL9kk",
        "colab": {
          "base_uri": "https://localhost:8080/",
          "height": 74
        },
        "outputId": "0bd64d71-9788-47ba-9da1-ca8f326ec572"
      },
      "execution_count": 20,
      "outputs": [
        {
          "output_type": "execute_result",
          "data": {
            "text/plain": [
              "DecisionTreeClassifier(criterion='entropy')"
            ],
            "text/html": [
              "<style>#sk-container-id-2 {color: black;background-color: white;}#sk-container-id-2 pre{padding: 0;}#sk-container-id-2 div.sk-toggleable {background-color: white;}#sk-container-id-2 label.sk-toggleable__label {cursor: pointer;display: block;width: 100%;margin-bottom: 0;padding: 0.3em;box-sizing: border-box;text-align: center;}#sk-container-id-2 label.sk-toggleable__label-arrow:before {content: \"▸\";float: left;margin-right: 0.25em;color: #696969;}#sk-container-id-2 label.sk-toggleable__label-arrow:hover:before {color: black;}#sk-container-id-2 div.sk-estimator:hover label.sk-toggleable__label-arrow:before {color: black;}#sk-container-id-2 div.sk-toggleable__content {max-height: 0;max-width: 0;overflow: hidden;text-align: left;background-color: #f0f8ff;}#sk-container-id-2 div.sk-toggleable__content pre {margin: 0.2em;color: black;border-radius: 0.25em;background-color: #f0f8ff;}#sk-container-id-2 input.sk-toggleable__control:checked~div.sk-toggleable__content {max-height: 200px;max-width: 100%;overflow: auto;}#sk-container-id-2 input.sk-toggleable__control:checked~label.sk-toggleable__label-arrow:before {content: \"▾\";}#sk-container-id-2 div.sk-estimator input.sk-toggleable__control:checked~label.sk-toggleable__label {background-color: #d4ebff;}#sk-container-id-2 div.sk-label input.sk-toggleable__control:checked~label.sk-toggleable__label {background-color: #d4ebff;}#sk-container-id-2 input.sk-hidden--visually {border: 0;clip: rect(1px 1px 1px 1px);clip: rect(1px, 1px, 1px, 1px);height: 1px;margin: -1px;overflow: hidden;padding: 0;position: absolute;width: 1px;}#sk-container-id-2 div.sk-estimator {font-family: monospace;background-color: #f0f8ff;border: 1px dotted black;border-radius: 0.25em;box-sizing: border-box;margin-bottom: 0.5em;}#sk-container-id-2 div.sk-estimator:hover {background-color: #d4ebff;}#sk-container-id-2 div.sk-parallel-item::after {content: \"\";width: 100%;border-bottom: 1px solid gray;flex-grow: 1;}#sk-container-id-2 div.sk-label:hover label.sk-toggleable__label {background-color: #d4ebff;}#sk-container-id-2 div.sk-serial::before {content: \"\";position: absolute;border-left: 1px solid gray;box-sizing: border-box;top: 0;bottom: 0;left: 50%;z-index: 0;}#sk-container-id-2 div.sk-serial {display: flex;flex-direction: column;align-items: center;background-color: white;padding-right: 0.2em;padding-left: 0.2em;position: relative;}#sk-container-id-2 div.sk-item {position: relative;z-index: 1;}#sk-container-id-2 div.sk-parallel {display: flex;align-items: stretch;justify-content: center;background-color: white;position: relative;}#sk-container-id-2 div.sk-item::before, #sk-container-id-2 div.sk-parallel-item::before {content: \"\";position: absolute;border-left: 1px solid gray;box-sizing: border-box;top: 0;bottom: 0;left: 50%;z-index: -1;}#sk-container-id-2 div.sk-parallel-item {display: flex;flex-direction: column;z-index: 1;position: relative;background-color: white;}#sk-container-id-2 div.sk-parallel-item:first-child::after {align-self: flex-end;width: 50%;}#sk-container-id-2 div.sk-parallel-item:last-child::after {align-self: flex-start;width: 50%;}#sk-container-id-2 div.sk-parallel-item:only-child::after {width: 0;}#sk-container-id-2 div.sk-dashed-wrapped {border: 1px dashed gray;margin: 0 0.4em 0.5em 0.4em;box-sizing: border-box;padding-bottom: 0.4em;background-color: white;}#sk-container-id-2 div.sk-label label {font-family: monospace;font-weight: bold;display: inline-block;line-height: 1.2em;}#sk-container-id-2 div.sk-label-container {text-align: center;}#sk-container-id-2 div.sk-container {/* jupyter's `normalize.less` sets `[hidden] { display: none; }` but bootstrap.min.css set `[hidden] { display: none !important; }` so we also need the `!important` here to be able to override the default hidden behavior on the sphinx rendered scikit-learn.org. See: https://github.com/scikit-learn/scikit-learn/issues/21755 */display: inline-block !important;position: relative;}#sk-container-id-2 div.sk-text-repr-fallback {display: none;}</style><div id=\"sk-container-id-2\" class=\"sk-top-container\"><div class=\"sk-text-repr-fallback\"><pre>DecisionTreeClassifier(criterion=&#x27;entropy&#x27;)</pre><b>In a Jupyter environment, please rerun this cell to show the HTML representation or trust the notebook. <br />On GitHub, the HTML representation is unable to render, please try loading this page with nbviewer.org.</b></div><div class=\"sk-container\" hidden><div class=\"sk-item\"><div class=\"sk-estimator sk-toggleable\"><input class=\"sk-toggleable__control sk-hidden--visually\" id=\"sk-estimator-id-2\" type=\"checkbox\" checked><label for=\"sk-estimator-id-2\" class=\"sk-toggleable__label sk-toggleable__label-arrow\">DecisionTreeClassifier</label><div class=\"sk-toggleable__content\"><pre>DecisionTreeClassifier(criterion=&#x27;entropy&#x27;)</pre></div></div></div></div></div>"
            ]
          },
          "metadata": {},
          "execution_count": 20
        }
      ]
    },
    {
      "cell_type": "markdown",
      "source": [
        "An instance of `DecisionTreeClassifier` named `dtc` is created with the parameter `criterion` set to 'entropy'. The 'entropy' criterion is used to measure the quality of a split in the decision tree based on the information gain.\n",
        "\n",
        "Next, the `X_train` and `y_train` variables are converted to NumPy arrays using the `np.asarray()` function, and then further converted to one-dimensional arrays using the `np.squeeze()` function. This is done to ensure that the dimensions of the input arrays match the expected format for training the decision tree classifier.\n",
        "\n",
        "Similarly, the `X_test` array is also converted to a one-dimensional array using `np.squeeze()`.\n",
        "\n",
        "Finally, the `fit()` method of the `dtc` object is called with `X_train` and `y_train` as the training data. This trains the decision tree classifier on the provided training dataset.\n"
      ],
      "metadata": {
        "id": "3Nld46zTOl1R"
      }
    },
    {
      "cell_type": "code",
      "source": [
        "dtc = DecisionTreeClassifier(criterion='entropy')"
      ],
      "metadata": {
        "id": "jZHr-ymKOe3W"
      },
      "execution_count": null,
      "outputs": []
    },
    {
      "cell_type": "markdown",
      "source": [
        "By choosing the 'entropy' criterion for the decision tree classifier, as in the code snippet you provided, the algorithm will use entropy as the measure of impurity to guide the construction of the decision tree. It will aim to make splits that maximize the information gain, reducing the entropy and improving the purity of the resulting subsets at each step of the tree-building process.\n"
      ],
      "metadata": {
        "id": "s2fnp3vOOyM_"
      }
    },
    {
      "cell_type": "code",
      "source": [
        "X_train = np.squeeze(np.asarray(X_train))\n",
        "y_train = np.squeeze(np.asarray(y_train))\n",
        "X_test = np.squeeze(np.asarray(X_test))\n",
        "dtc.fit(X_train, y_train)"
      ],
      "metadata": {
        "id": "wWE5QbrHOhMW"
      },
      "execution_count": null,
      "outputs": []
    },
    {
      "cell_type": "code",
      "source": [
        "y_pred = dtc.predict(X_test)"
      ],
      "metadata": {
        "id": "twd2h-hKB15D"
      },
      "execution_count": 23,
      "outputs": []
    },
    {
      "cell_type": "code",
      "source": [
        "from sklearn.metrics import confusion_matrix\n",
        "cm = confusion_matrix(y_test, y_pred)"
      ],
      "metadata": {
        "id": "KYUFWfBZN0Rc"
      },
      "execution_count": null,
      "outputs": []
    },
    {
      "cell_type": "markdown",
      "source": [
        "The `confusion_matrix` function is commonly used in **classification tasks** to evaluate the performance of a machine learning model by comparing the predicted labels (`y_pred`) with the true labels (`y_test`).\n",
        "\n",
        "The function takes two arguments: `y_test` and `y_pred`. `y_test` represents the true labels of the test data, while `y_pred` represents the predicted labels generated by the trained model.\n",
        "\n",
        "When executed, the `confusion_matrix` function will compute a confusion matrix based on the provided labels. The confusion matrix is a table that summarizes the performance of a classification model, showing the counts of true positive, true negative, false positive, and false negative predictions.\n",
        "\n",
        "The output of the `confusion_matrix` function will be a 2-dimensional array representing the confusion matrix. The rows of the matrix correspond to the true labels, and the columns correspond to the predicted labels. Each element of the matrix represents the count of data points falling into a particular combination of true and predicted labels.\n",
        "\n",
        "By examining the confusion matrix, you can gain insights into the model's performance, including the accuracy, precision, recall, and other evaluation metrics derived from the counts in the matrix.\n"
      ],
      "metadata": {
        "id": "vUnOpEdUM0SU"
      }
    },
    {
      "cell_type": "code",
      "source": [
        "print(cm)"
      ],
      "metadata": {
        "id": "9kxbBsI4L9Zp",
        "colab": {
          "base_uri": "https://localhost:8080/"
        },
        "outputId": "76837db2-1120-4b2e-e78d-87c648d0682b"
      },
      "execution_count": 28,
      "outputs": [
        {
          "output_type": "stream",
          "name": "stdout",
          "text": [
            "[[23 24]\n",
            " [21 32]]\n"
          ]
        }
      ]
    }
  ]
}